{
 "cells": [
  {
   "cell_type": "code",
   "execution_count": 1,
   "metadata": {},
   "outputs": [],
   "source": [
    "import numpy as np\n",
    "import pandas as pd\n",
    "\n",
    "from sklearn.feature_selection import RFE\n",
    "from sklearn.ensemble import RandomForestClassifier\n",
    "from sklearn.model_selection import train_test_split\n",
    "from sklearn.metrics import accuracy_score"
   ]
  },
  {
   "cell_type": "code",
   "execution_count": 2,
   "metadata": {},
   "outputs": [
    {
     "data": {
      "text/html": [
       "<div>\n",
       "<style scoped>\n",
       "    .dataframe tbody tr th:only-of-type {\n",
       "        vertical-align: middle;\n",
       "    }\n",
       "\n",
       "    .dataframe tbody tr th {\n",
       "        vertical-align: top;\n",
       "    }\n",
       "\n",
       "    .dataframe thead th {\n",
       "        text-align: right;\n",
       "    }\n",
       "</style>\n",
       "<table border=\"1\" class=\"dataframe\">\n",
       "  <thead>\n",
       "    <tr style=\"text-align: right;\">\n",
       "      <th></th>\n",
       "      <th>FP1_power_delta</th>\n",
       "      <th>FP1_power_theta</th>\n",
       "      <th>FP1_power_alpha</th>\n",
       "      <th>FP1_power_beta</th>\n",
       "      <th>FP1_power_gamma</th>\n",
       "      <th>FP2_power_delta</th>\n",
       "      <th>FP2_power_theta</th>\n",
       "      <th>FP2_power_alpha</th>\n",
       "      <th>FP2_power_beta</th>\n",
       "      <th>FP2_power_gamma</th>\n",
       "      <th>...</th>\n",
       "      <th>T5_STD_D4</th>\n",
       "      <th>T5_STD_D5</th>\n",
       "      <th>T5_STD_D6</th>\n",
       "      <th>T6_STD_D1</th>\n",
       "      <th>T6_STD_D2</th>\n",
       "      <th>T6_STD_D3</th>\n",
       "      <th>T6_STD_D4</th>\n",
       "      <th>T6_STD_D5</th>\n",
       "      <th>T6_STD_D6</th>\n",
       "      <th>epileptic_</th>\n",
       "    </tr>\n",
       "  </thead>\n",
       "  <tbody>\n",
       "    <tr>\n",
       "      <th>0</th>\n",
       "      <td>15.980332</td>\n",
       "      <td>8.633358</td>\n",
       "      <td>3.092433</td>\n",
       "      <td>0.846559</td>\n",
       "      <td>0.372832</td>\n",
       "      <td>17.581626</td>\n",
       "      <td>9.937238</td>\n",
       "      <td>3.485713</td>\n",
       "      <td>0.945396</td>\n",
       "      <td>0.428797</td>\n",
       "      <td>...</td>\n",
       "      <td>31.427918</td>\n",
       "      <td>29.699413</td>\n",
       "      <td>32.013546</td>\n",
       "      <td>3.583559</td>\n",
       "      <td>12.529528</td>\n",
       "      <td>45.831132</td>\n",
       "      <td>61.890813</td>\n",
       "      <td>34.783454</td>\n",
       "      <td>33.245906</td>\n",
       "      <td>1</td>\n",
       "    </tr>\n",
       "    <tr>\n",
       "      <th>1</th>\n",
       "      <td>223.267803</td>\n",
       "      <td>41.573241</td>\n",
       "      <td>13.043525</td>\n",
       "      <td>6.463381</td>\n",
       "      <td>6.168712</td>\n",
       "      <td>298.274432</td>\n",
       "      <td>50.013025</td>\n",
       "      <td>14.411482</td>\n",
       "      <td>6.659230</td>\n",
       "      <td>4.942250</td>\n",
       "      <td>...</td>\n",
       "      <td>24.822720</td>\n",
       "      <td>47.185918</td>\n",
       "      <td>93.619195</td>\n",
       "      <td>14.158489</td>\n",
       "      <td>15.217886</td>\n",
       "      <td>30.927407</td>\n",
       "      <td>77.324322</td>\n",
       "      <td>153.442359</td>\n",
       "      <td>213.780950</td>\n",
       "      <td>1</td>\n",
       "    </tr>\n",
       "    <tr>\n",
       "      <th>2</th>\n",
       "      <td>158.673907</td>\n",
       "      <td>31.788608</td>\n",
       "      <td>9.956198</td>\n",
       "      <td>3.736977</td>\n",
       "      <td>2.926979</td>\n",
       "      <td>232.762741</td>\n",
       "      <td>39.332981</td>\n",
       "      <td>10.956081</td>\n",
       "      <td>3.478036</td>\n",
       "      <td>2.153082</td>\n",
       "      <td>...</td>\n",
       "      <td>21.708222</td>\n",
       "      <td>47.412375</td>\n",
       "      <td>85.729645</td>\n",
       "      <td>9.493639</td>\n",
       "      <td>11.824569</td>\n",
       "      <td>24.555772</td>\n",
       "      <td>59.229187</td>\n",
       "      <td>112.406306</td>\n",
       "      <td>171.618208</td>\n",
       "      <td>1</td>\n",
       "    </tr>\n",
       "    <tr>\n",
       "      <th>3</th>\n",
       "      <td>29.767326</td>\n",
       "      <td>3.875543</td>\n",
       "      <td>1.553127</td>\n",
       "      <td>0.438266</td>\n",
       "      <td>0.140495</td>\n",
       "      <td>45.206547</td>\n",
       "      <td>5.173542</td>\n",
       "      <td>2.028637</td>\n",
       "      <td>0.528962</td>\n",
       "      <td>0.161283</td>\n",
       "      <td>...</td>\n",
       "      <td>26.319506</td>\n",
       "      <td>39.628894</td>\n",
       "      <td>51.473202</td>\n",
       "      <td>1.872515</td>\n",
       "      <td>5.392639</td>\n",
       "      <td>17.296780</td>\n",
       "      <td>35.824586</td>\n",
       "      <td>44.892899</td>\n",
       "      <td>79.613460</td>\n",
       "      <td>1</td>\n",
       "    </tr>\n",
       "    <tr>\n",
       "      <th>4</th>\n",
       "      <td>33.821075</td>\n",
       "      <td>3.635210</td>\n",
       "      <td>1.347280</td>\n",
       "      <td>0.313205</td>\n",
       "      <td>0.080396</td>\n",
       "      <td>55.670043</td>\n",
       "      <td>4.925017</td>\n",
       "      <td>1.783729</td>\n",
       "      <td>0.394463</td>\n",
       "      <td>0.102254</td>\n",
       "      <td>...</td>\n",
       "      <td>26.111048</td>\n",
       "      <td>39.177537</td>\n",
       "      <td>52.925676</td>\n",
       "      <td>1.408291</td>\n",
       "      <td>4.556997</td>\n",
       "      <td>12.733549</td>\n",
       "      <td>25.676801</td>\n",
       "      <td>44.406617</td>\n",
       "      <td>94.770581</td>\n",
       "      <td>1</td>\n",
       "    </tr>\n",
       "  </tbody>\n",
       "</table>\n",
       "<p>5 rows × 668 columns</p>\n",
       "</div>"
      ],
      "text/plain": [
       "   FP1_power_delta  FP1_power_theta  FP1_power_alpha  FP1_power_beta  \\\n",
       "0        15.980332         8.633358         3.092433        0.846559   \n",
       "1       223.267803        41.573241        13.043525        6.463381   \n",
       "2       158.673907        31.788608         9.956198        3.736977   \n",
       "3        29.767326         3.875543         1.553127        0.438266   \n",
       "4        33.821075         3.635210         1.347280        0.313205   \n",
       "\n",
       "   FP1_power_gamma  FP2_power_delta  FP2_power_theta  FP2_power_alpha  \\\n",
       "0         0.372832        17.581626         9.937238         3.485713   \n",
       "1         6.168712       298.274432        50.013025        14.411482   \n",
       "2         2.926979       232.762741        39.332981        10.956081   \n",
       "3         0.140495        45.206547         5.173542         2.028637   \n",
       "4         0.080396        55.670043         4.925017         1.783729   \n",
       "\n",
       "   FP2_power_beta  FP2_power_gamma  ...  T5_STD_D4  T5_STD_D5  T5_STD_D6  \\\n",
       "0        0.945396         0.428797  ...  31.427918  29.699413  32.013546   \n",
       "1        6.659230         4.942250  ...  24.822720  47.185918  93.619195   \n",
       "2        3.478036         2.153082  ...  21.708222  47.412375  85.729645   \n",
       "3        0.528962         0.161283  ...  26.319506  39.628894  51.473202   \n",
       "4        0.394463         0.102254  ...  26.111048  39.177537  52.925676   \n",
       "\n",
       "   T6_STD_D1  T6_STD_D2  T6_STD_D3  T6_STD_D4   T6_STD_D5   T6_STD_D6  \\\n",
       "0   3.583559  12.529528  45.831132  61.890813   34.783454   33.245906   \n",
       "1  14.158489  15.217886  30.927407  77.324322  153.442359  213.780950   \n",
       "2   9.493639  11.824569  24.555772  59.229187  112.406306  171.618208   \n",
       "3   1.872515   5.392639  17.296780  35.824586   44.892899   79.613460   \n",
       "4   1.408291   4.556997  12.733549  25.676801   44.406617   94.770581   \n",
       "\n",
       "   epileptic_  \n",
       "0           1  \n",
       "1           1  \n",
       "2           1  \n",
       "3           1  \n",
       "4           1  \n",
       "\n",
       "[5 rows x 668 columns]"
      ]
     },
     "execution_count": 2,
     "metadata": {},
     "output_type": "execute_result"
    }
   ],
   "source": [
    "data = pd.read_csv('eeg_data.csv')\n",
    "data.head()"
   ]
  },
  {
   "cell_type": "code",
   "execution_count": 4,
   "metadata": {},
   "outputs": [],
   "source": [
    "x = data.iloc[:, :-1]\n",
    "y = data.iloc[:, -1]\n",
    "X_train, X_test, y_train, y_test = train_test_split(x, y, test_size=0.2, random_state=42)"
   ]
  },
  {
   "cell_type": "markdown",
   "metadata": {},
   "source": [
    "Feature Selection"
   ]
  },
  {
   "cell_type": "code",
   "execution_count": 5,
   "metadata": {},
   "outputs": [
    {
     "data": {
      "text/html": [
       "<style>#sk-container-id-1 {color: black;background-color: white;}#sk-container-id-1 pre{padding: 0;}#sk-container-id-1 div.sk-toggleable {background-color: white;}#sk-container-id-1 label.sk-toggleable__label {cursor: pointer;display: block;width: 100%;margin-bottom: 0;padding: 0.3em;box-sizing: border-box;text-align: center;}#sk-container-id-1 label.sk-toggleable__label-arrow:before {content: \"▸\";float: left;margin-right: 0.25em;color: #696969;}#sk-container-id-1 label.sk-toggleable__label-arrow:hover:before {color: black;}#sk-container-id-1 div.sk-estimator:hover label.sk-toggleable__label-arrow:before {color: black;}#sk-container-id-1 div.sk-toggleable__content {max-height: 0;max-width: 0;overflow: hidden;text-align: left;background-color: #f0f8ff;}#sk-container-id-1 div.sk-toggleable__content pre {margin: 0.2em;color: black;border-radius: 0.25em;background-color: #f0f8ff;}#sk-container-id-1 input.sk-toggleable__control:checked~div.sk-toggleable__content {max-height: 200px;max-width: 100%;overflow: auto;}#sk-container-id-1 input.sk-toggleable__control:checked~label.sk-toggleable__label-arrow:before {content: \"▾\";}#sk-container-id-1 div.sk-estimator input.sk-toggleable__control:checked~label.sk-toggleable__label {background-color: #d4ebff;}#sk-container-id-1 div.sk-label input.sk-toggleable__control:checked~label.sk-toggleable__label {background-color: #d4ebff;}#sk-container-id-1 input.sk-hidden--visually {border: 0;clip: rect(1px 1px 1px 1px);clip: rect(1px, 1px, 1px, 1px);height: 1px;margin: -1px;overflow: hidden;padding: 0;position: absolute;width: 1px;}#sk-container-id-1 div.sk-estimator {font-family: monospace;background-color: #f0f8ff;border: 1px dotted black;border-radius: 0.25em;box-sizing: border-box;margin-bottom: 0.5em;}#sk-container-id-1 div.sk-estimator:hover {background-color: #d4ebff;}#sk-container-id-1 div.sk-parallel-item::after {content: \"\";width: 100%;border-bottom: 1px solid gray;flex-grow: 1;}#sk-container-id-1 div.sk-label:hover label.sk-toggleable__label {background-color: #d4ebff;}#sk-container-id-1 div.sk-serial::before {content: \"\";position: absolute;border-left: 1px solid gray;box-sizing: border-box;top: 0;bottom: 0;left: 50%;z-index: 0;}#sk-container-id-1 div.sk-serial {display: flex;flex-direction: column;align-items: center;background-color: white;padding-right: 0.2em;padding-left: 0.2em;position: relative;}#sk-container-id-1 div.sk-item {position: relative;z-index: 1;}#sk-container-id-1 div.sk-parallel {display: flex;align-items: stretch;justify-content: center;background-color: white;position: relative;}#sk-container-id-1 div.sk-item::before, #sk-container-id-1 div.sk-parallel-item::before {content: \"\";position: absolute;border-left: 1px solid gray;box-sizing: border-box;top: 0;bottom: 0;left: 50%;z-index: -1;}#sk-container-id-1 div.sk-parallel-item {display: flex;flex-direction: column;z-index: 1;position: relative;background-color: white;}#sk-container-id-1 div.sk-parallel-item:first-child::after {align-self: flex-end;width: 50%;}#sk-container-id-1 div.sk-parallel-item:last-child::after {align-self: flex-start;width: 50%;}#sk-container-id-1 div.sk-parallel-item:only-child::after {width: 0;}#sk-container-id-1 div.sk-dashed-wrapped {border: 1px dashed gray;margin: 0 0.4em 0.5em 0.4em;box-sizing: border-box;padding-bottom: 0.4em;background-color: white;}#sk-container-id-1 div.sk-label label {font-family: monospace;font-weight: bold;display: inline-block;line-height: 1.2em;}#sk-container-id-1 div.sk-label-container {text-align: center;}#sk-container-id-1 div.sk-container {/* jupyter's `normalize.less` sets `[hidden] { display: none; }` but bootstrap.min.css set `[hidden] { display: none !important; }` so we also need the `!important` here to be able to override the default hidden behavior on the sphinx rendered scikit-learn.org. See: https://github.com/scikit-learn/scikit-learn/issues/21755 */display: inline-block !important;position: relative;}#sk-container-id-1 div.sk-text-repr-fallback {display: none;}</style><div id=\"sk-container-id-1\" class=\"sk-top-container\"><div class=\"sk-text-repr-fallback\"><pre>RFE(estimator=RandomForestClassifier(random_state=42), n_features_to_select=300)</pre><b>In a Jupyter environment, please rerun this cell to show the HTML representation or trust the notebook. <br />On GitHub, the HTML representation is unable to render, please try loading this page with nbviewer.org.</b></div><div class=\"sk-container\" hidden><div class=\"sk-item sk-dashed-wrapped\"><div class=\"sk-label-container\"><div class=\"sk-label sk-toggleable\"><input class=\"sk-toggleable__control sk-hidden--visually\" id=\"sk-estimator-id-1\" type=\"checkbox\" ><label for=\"sk-estimator-id-1\" class=\"sk-toggleable__label sk-toggleable__label-arrow\">RFE</label><div class=\"sk-toggleable__content\"><pre>RFE(estimator=RandomForestClassifier(random_state=42), n_features_to_select=300)</pre></div></div></div><div class=\"sk-parallel\"><div class=\"sk-parallel-item\"><div class=\"sk-item\"><div class=\"sk-label-container\"><div class=\"sk-label sk-toggleable\"><input class=\"sk-toggleable__control sk-hidden--visually\" id=\"sk-estimator-id-2\" type=\"checkbox\" ><label for=\"sk-estimator-id-2\" class=\"sk-toggleable__label sk-toggleable__label-arrow\">estimator: RandomForestClassifier</label><div class=\"sk-toggleable__content\"><pre>RandomForestClassifier(random_state=42)</pre></div></div></div><div class=\"sk-serial\"><div class=\"sk-item\"><div class=\"sk-estimator sk-toggleable\"><input class=\"sk-toggleable__control sk-hidden--visually\" id=\"sk-estimator-id-3\" type=\"checkbox\" ><label for=\"sk-estimator-id-3\" class=\"sk-toggleable__label sk-toggleable__label-arrow\">RandomForestClassifier</label><div class=\"sk-toggleable__content\"><pre>RandomForestClassifier(random_state=42)</pre></div></div></div></div></div></div></div></div></div></div>"
      ],
      "text/plain": [
       "RFE(estimator=RandomForestClassifier(random_state=42), n_features_to_select=300)"
      ]
     },
     "execution_count": 5,
     "metadata": {},
     "output_type": "execute_result"
    }
   ],
   "source": [
    "clf = RandomForestClassifier(n_estimators= 100 ,random_state=42)\n",
    "features_to_select = 300\n",
    "\n",
    "rfe = RFE(estimator=clf, n_features_to_select=features_to_select)\n",
    "rfe.fit(x, y)"
   ]
  },
  {
   "cell_type": "code",
   "execution_count": 6,
   "metadata": {},
   "outputs": [
    {
     "data": {
      "text/plain": [
       "array(['FP2_power_delta', 'FP2_power_gamma', 'F3_power_theta',\n",
       "       'F4_power_delta', 'F4_power_beta', 'F4_power_gamma',\n",
       "       'C3_power_delta', 'C3_power_theta', 'C3_power_alpha',\n",
       "       'C3_power_beta', 'C4_power_delta', 'C4_power_theta',\n",
       "       'P3_power_theta', 'P3_power_alpha', 'P3_power_beta',\n",
       "       'P4_power_delta', 'P4_power_alpha', 'O1_power_theta',\n",
       "       'O1_power_alpha', 'O2_power_theta', 'O2_power_alpha',\n",
       "       'F7_power_delta', 'F7_power_gamma', 'F8_power_delta',\n",
       "       'F8_power_gamma', 'T3_power_delta', 'T4_power_delta',\n",
       "       'T5_power_delta', 'T5_power_theta', 'T5_power_alpha',\n",
       "       'T6_power_delta', 'T6_power_theta', 'A1_power_delta',\n",
       "       'A1_power_theta', 'A1_power_alpha', 'A1_power_beta',\n",
       "       'A1_power_gamma', 'A2_power_delta', 'A2_power_beta',\n",
       "       'A2_power_gamma', 'FZ_power_delta', 'FZ_power_alpha',\n",
       "       'CZ_power_delta', 'CZ_power_theta', 'PZ_power_delta',\n",
       "       'PZ_power_theta', 'PZ_power_alpha', 'T1_power_delta',\n",
       "       'T1_power_theta', 'T1_power_alpha', 'T1_power_beta',\n",
       "       'T1_power_gamma', 'T2_power_delta', 'T2_power_theta',\n",
       "       'T2_power_alpha', 'T2_power_beta', 'T2_power_gamma', 'C3_LSWT_D4',\n",
       "       'C3_LSWT_D5', 'C3_LSWT_D6', 'C4_LSWT_D4', 'C4_LSWT_D5',\n",
       "       'F3_LSWT_D3', 'F4_LSWT_D2', 'F4_LSWT_D3', 'F4_LSWT_D5',\n",
       "       'F7_LSWT_D2', 'F7_LSWT_D3', 'F7_LSWT_D4', 'F7_LSWT_D6',\n",
       "       'F8_LSWT_D4', 'O1_LSWT_D1', 'O1_LSWT_D4', 'P3_LSWT_D4',\n",
       "       'T2_LSWT_D1', 'T2_LSWT_D4', 'T2_LSWT_D5', 'T3_LSWT_D2',\n",
       "       'T4_LSWT_D1', 'T6_LSWT_D5', 'A1_Mean_D2', 'A1_Mean_D4',\n",
       "       'A2_Mean_D1', 'A2_Mean_D2', 'A2_Mean_D4', 'A2_Mean_D5',\n",
       "       'C3_Mean_D2', 'C4_Mean_D2', 'F3_Mean_D1', 'F4_Mean_D1',\n",
       "       'F4_Mean_D2', 'F4_Mean_D5', 'F7_Mean_D1', 'F7_Mean_D2',\n",
       "       'F8_Mean_D2', 'F8_Mean_D4', 'F8_Mean_D5', 'FP1_Mean_D1',\n",
       "       'FP1_Mean_D2', 'FP1_Mean_D3', 'FP1_Mean_D4', 'FP1_Mean_D5',\n",
       "       'FP1_Mean_D6', 'FP2_Mean_D1', 'FP2_Mean_D5', 'FP2_Mean_D6',\n",
       "       'O1_Mean_D2', 'O1_Mean_D4', 'O2_Mean_D6', 'P3_Mean_D4',\n",
       "       'P4_Mean_D4', 'PZ_Mean_D4', 'T2_Mean_D4', 'T3_Mean_D2',\n",
       "       'T3_Mean_D6', 'T4_Mean_D1', 'T4_Mean_D2', 'T6_Mean_D1',\n",
       "       'T6_Mean_D2', 'T6_Mean_D4', 'T6_Mean_D6', 'A1_Mean_Abs_D1',\n",
       "       'A1_Mean_Abs_D2', 'A1_Mean_Abs_D3', 'A1_Mean_Abs_D4',\n",
       "       'A1_Mean_Abs_D5', 'A1_Mean_Abs_D6', 'A2_Mean_Abs_D1',\n",
       "       'A2_Mean_Abs_D3', 'A2_Mean_Abs_D4', 'A2_Mean_Abs_D5',\n",
       "       'A2_Mean_Abs_D6', 'C3_Mean_Abs_D1', 'C3_Mean_Abs_D2',\n",
       "       'C3_Mean_Abs_D3', 'C3_Mean_Abs_D4', 'C3_Mean_Abs_D5',\n",
       "       'C3_Mean_Abs_D6', 'C4_Mean_Abs_D1', 'C4_Mean_Abs_D4',\n",
       "       'C4_Mean_Abs_D5', 'F3_Mean_Abs_D1', 'F3_Mean_Abs_D2',\n",
       "       'F3_Mean_Abs_D4', 'F3_Mean_Abs_D5', 'F3_Mean_Abs_D6',\n",
       "       'F4_Mean_Abs_D1', 'F4_Mean_Abs_D4', 'F4_Mean_Abs_D5',\n",
       "       'F7_Mean_Abs_D1', 'F7_Mean_Abs_D4', 'F7_Mean_Abs_D5',\n",
       "       'F7_Mean_Abs_D6', 'F8_Mean_Abs_D1', 'F8_Mean_Abs_D4',\n",
       "       'F8_Mean_Abs_D5', 'F8_Mean_Abs_D6', 'FP1_Mean_Abs_D1',\n",
       "       'FP1_Mean_Abs_D4', 'FP1_Mean_Abs_D5', 'FP1_Mean_Abs_D6',\n",
       "       'FP2_Mean_Abs_D1', 'FP2_Mean_Abs_D2', 'FP2_Mean_Abs_D3',\n",
       "       'FP2_Mean_Abs_D4', 'FP2_Mean_Abs_D5', 'FP2_Mean_Abs_D6',\n",
       "       'FZ_Mean_Abs_D4', 'O1_Mean_Abs_D1', 'O1_Mean_Abs_D2',\n",
       "       'O1_Mean_Abs_D3', 'O1_Mean_Abs_D4', 'O1_Mean_Abs_D5',\n",
       "       'O1_Mean_Abs_D6', 'O2_Mean_Abs_D1', 'O2_Mean_Abs_D2',\n",
       "       'O2_Mean_Abs_D3', 'O2_Mean_Abs_D4', 'O2_Mean_Abs_D5',\n",
       "       'O2_Mean_Abs_D6', 'P3_Mean_Abs_D1', 'P3_Mean_Abs_D2',\n",
       "       'P3_Mean_Abs_D3', 'P3_Mean_Abs_D4', 'P3_Mean_Abs_D5',\n",
       "       'P4_Mean_Abs_D1', 'P4_Mean_Abs_D4', 'P4_Mean_Abs_D5',\n",
       "       'PZ_Mean_Abs_D1', 'PZ_Mean_Abs_D3', 'PZ_Mean_Abs_D4',\n",
       "       'PZ_Mean_Abs_D6', 'T1_Mean_Abs_D1', 'T1_Mean_Abs_D2',\n",
       "       'T1_Mean_Abs_D3', 'T1_Mean_Abs_D4', 'T1_Mean_Abs_D5',\n",
       "       'T1_Mean_Abs_D6', 'T2_Mean_Abs_D1', 'T2_Mean_Abs_D2',\n",
       "       'T2_Mean_Abs_D3', 'T2_Mean_Abs_D4', 'T2_Mean_Abs_D5',\n",
       "       'T2_Mean_Abs_D6', 'T3_Mean_Abs_D1', 'T3_Mean_Abs_D4',\n",
       "       'T3_Mean_Abs_D5', 'T3_Mean_Abs_D6', 'T4_Mean_Abs_D1',\n",
       "       'T4_Mean_Abs_D4', 'T4_Mean_Abs_D5', 'T4_Mean_Abs_D6',\n",
       "       'T5_Mean_Abs_D1', 'T5_Mean_Abs_D2', 'T5_Mean_Abs_D4',\n",
       "       'T5_Mean_Abs_D5', 'T5_Mean_Abs_D6', 'T6_Mean_Abs_D1',\n",
       "       'T6_Mean_Abs_D4', 'T6_Mean_Abs_D5', 'T6_Mean_Abs_D6', 'A1_STD_D1',\n",
       "       'A1_STD_D3', 'A1_STD_D4', 'A1_STD_D5', 'A1_STD_D6', 'A2_STD_D1',\n",
       "       'A2_STD_D4', 'A2_STD_D5', 'A2_STD_D6', 'C3_STD_D2', 'C3_STD_D3',\n",
       "       'C3_STD_D5', 'C3_STD_D6', 'C4_STD_D3', 'C4_STD_D4', 'C4_STD_D5',\n",
       "       'C4_STD_D6', 'CZ_STD_D3', 'CZ_STD_D5', 'CZ_STD_D6', 'F3_STD_D1',\n",
       "       'F3_STD_D3', 'F3_STD_D5', 'F3_STD_D6', 'F4_STD_D1', 'F4_STD_D2',\n",
       "       'F4_STD_D3', 'F4_STD_D6', 'F7_STD_D1', 'F7_STD_D2', 'F7_STD_D5',\n",
       "       'F7_STD_D6', 'F8_STD_D1', 'F8_STD_D5', 'F8_STD_D6', 'FP1_STD_D1',\n",
       "       'FP1_STD_D3', 'FP2_STD_D1', 'FP2_STD_D6', 'FZ_STD_D3', 'FZ_STD_D5',\n",
       "       'FZ_STD_D6', 'O1_STD_D2', 'O1_STD_D3', 'O1_STD_D6', 'O2_STD_D3',\n",
       "       'O2_STD_D6', 'P3_STD_D2', 'P3_STD_D3', 'P4_STD_D3', 'P4_STD_D4',\n",
       "       'P4_STD_D6', 'PZ_STD_D1', 'T1_STD_D1', 'T1_STD_D2', 'T1_STD_D3',\n",
       "       'T1_STD_D4', 'T1_STD_D5', 'T1_STD_D6', 'T2_STD_D1', 'T2_STD_D2',\n",
       "       'T2_STD_D3', 'T2_STD_D4', 'T2_STD_D5', 'T2_STD_D6', 'T3_STD_D1',\n",
       "       'T3_STD_D2', 'T3_STD_D5', 'T3_STD_D6', 'T4_STD_D4', 'T4_STD_D5',\n",
       "       'T4_STD_D6', 'T5_STD_D1', 'T5_STD_D3', 'T5_STD_D4', 'T5_STD_D6',\n",
       "       'T6_STD_D3', 'T6_STD_D5', 'T6_STD_D6'], dtype=object)"
      ]
     },
     "execution_count": 6,
     "metadata": {},
     "output_type": "execute_result"
    }
   ],
   "source": [
    "selected_features = np.array(x.columns)[rfe.support_]\n",
    "selected_features"
   ]
  },
  {
   "cell_type": "code",
   "execution_count": 23,
   "metadata": {},
   "outputs": [],
   "source": [
    "X_train_rfe = rfe.transform(X_train)\n",
    "X_test_rfe = rfe.transform(X_test)"
   ]
  },
  {
   "cell_type": "markdown",
   "metadata": {},
   "source": [
    "Naive Bayes"
   ]
  },
  {
   "cell_type": "code",
   "execution_count": 24,
   "metadata": {},
   "outputs": [
    {
     "data": {
      "text/html": [
       "<style>#sk-container-id-4 {color: black;background-color: white;}#sk-container-id-4 pre{padding: 0;}#sk-container-id-4 div.sk-toggleable {background-color: white;}#sk-container-id-4 label.sk-toggleable__label {cursor: pointer;display: block;width: 100%;margin-bottom: 0;padding: 0.3em;box-sizing: border-box;text-align: center;}#sk-container-id-4 label.sk-toggleable__label-arrow:before {content: \"▸\";float: left;margin-right: 0.25em;color: #696969;}#sk-container-id-4 label.sk-toggleable__label-arrow:hover:before {color: black;}#sk-container-id-4 div.sk-estimator:hover label.sk-toggleable__label-arrow:before {color: black;}#sk-container-id-4 div.sk-toggleable__content {max-height: 0;max-width: 0;overflow: hidden;text-align: left;background-color: #f0f8ff;}#sk-container-id-4 div.sk-toggleable__content pre {margin: 0.2em;color: black;border-radius: 0.25em;background-color: #f0f8ff;}#sk-container-id-4 input.sk-toggleable__control:checked~div.sk-toggleable__content {max-height: 200px;max-width: 100%;overflow: auto;}#sk-container-id-4 input.sk-toggleable__control:checked~label.sk-toggleable__label-arrow:before {content: \"▾\";}#sk-container-id-4 div.sk-estimator input.sk-toggleable__control:checked~label.sk-toggleable__label {background-color: #d4ebff;}#sk-container-id-4 div.sk-label input.sk-toggleable__control:checked~label.sk-toggleable__label {background-color: #d4ebff;}#sk-container-id-4 input.sk-hidden--visually {border: 0;clip: rect(1px 1px 1px 1px);clip: rect(1px, 1px, 1px, 1px);height: 1px;margin: -1px;overflow: hidden;padding: 0;position: absolute;width: 1px;}#sk-container-id-4 div.sk-estimator {font-family: monospace;background-color: #f0f8ff;border: 1px dotted black;border-radius: 0.25em;box-sizing: border-box;margin-bottom: 0.5em;}#sk-container-id-4 div.sk-estimator:hover {background-color: #d4ebff;}#sk-container-id-4 div.sk-parallel-item::after {content: \"\";width: 100%;border-bottom: 1px solid gray;flex-grow: 1;}#sk-container-id-4 div.sk-label:hover label.sk-toggleable__label {background-color: #d4ebff;}#sk-container-id-4 div.sk-serial::before {content: \"\";position: absolute;border-left: 1px solid gray;box-sizing: border-box;top: 0;bottom: 0;left: 50%;z-index: 0;}#sk-container-id-4 div.sk-serial {display: flex;flex-direction: column;align-items: center;background-color: white;padding-right: 0.2em;padding-left: 0.2em;position: relative;}#sk-container-id-4 div.sk-item {position: relative;z-index: 1;}#sk-container-id-4 div.sk-parallel {display: flex;align-items: stretch;justify-content: center;background-color: white;position: relative;}#sk-container-id-4 div.sk-item::before, #sk-container-id-4 div.sk-parallel-item::before {content: \"\";position: absolute;border-left: 1px solid gray;box-sizing: border-box;top: 0;bottom: 0;left: 50%;z-index: -1;}#sk-container-id-4 div.sk-parallel-item {display: flex;flex-direction: column;z-index: 1;position: relative;background-color: white;}#sk-container-id-4 div.sk-parallel-item:first-child::after {align-self: flex-end;width: 50%;}#sk-container-id-4 div.sk-parallel-item:last-child::after {align-self: flex-start;width: 50%;}#sk-container-id-4 div.sk-parallel-item:only-child::after {width: 0;}#sk-container-id-4 div.sk-dashed-wrapped {border: 1px dashed gray;margin: 0 0.4em 0.5em 0.4em;box-sizing: border-box;padding-bottom: 0.4em;background-color: white;}#sk-container-id-4 div.sk-label label {font-family: monospace;font-weight: bold;display: inline-block;line-height: 1.2em;}#sk-container-id-4 div.sk-label-container {text-align: center;}#sk-container-id-4 div.sk-container {/* jupyter's `normalize.less` sets `[hidden] { display: none; }` but bootstrap.min.css set `[hidden] { display: none !important; }` so we also need the `!important` here to be able to override the default hidden behavior on the sphinx rendered scikit-learn.org. See: https://github.com/scikit-learn/scikit-learn/issues/21755 */display: inline-block !important;position: relative;}#sk-container-id-4 div.sk-text-repr-fallback {display: none;}</style><div id=\"sk-container-id-4\" class=\"sk-top-container\"><div class=\"sk-text-repr-fallback\"><pre>GaussianNB()</pre><b>In a Jupyter environment, please rerun this cell to show the HTML representation or trust the notebook. <br />On GitHub, the HTML representation is unable to render, please try loading this page with nbviewer.org.</b></div><div class=\"sk-container\" hidden><div class=\"sk-item\"><div class=\"sk-estimator sk-toggleable\"><input class=\"sk-toggleable__control sk-hidden--visually\" id=\"sk-estimator-id-6\" type=\"checkbox\" checked><label for=\"sk-estimator-id-6\" class=\"sk-toggleable__label sk-toggleable__label-arrow\">GaussianNB</label><div class=\"sk-toggleable__content\"><pre>GaussianNB()</pre></div></div></div></div></div>"
      ],
      "text/plain": [
       "GaussianNB()"
      ]
     },
     "execution_count": 24,
     "metadata": {},
     "output_type": "execute_result"
    }
   ],
   "source": [
    "from sklearn.naive_bayes import GaussianNB\n",
    "from sklearn.metrics import confusion_matrix, precision_recall_fscore_support\n",
    "\n",
    "nb = GaussianNB()\n",
    "nb.fit(X_train_rfe,y_train)"
   ]
  },
  {
   "cell_type": "code",
   "execution_count": 25,
   "metadata": {},
   "outputs": [],
   "source": [
    "nb_score=nb.score(X_test_rfe,y_test)\n",
    "y_predict=nb.predict(X_test_rfe)\n",
    "y_true=y_test"
   ]
  },
  {
   "cell_type": "code",
   "execution_count": 26,
   "metadata": {},
   "outputs": [
    {
     "name": "stdout",
     "output_type": "stream",
     "text": [
      "Accuracy of NB: 0.5630630630630631\n",
      "Precision of NB: 0.7615777369875731\n",
      "Recall of NB: 0.5630630630630631\n",
      "F1-score of NB: 0.44138971507392566\n"
     ]
    }
   ],
   "source": [
    "print('Accuracy of NB: '+ str(nb_score))\n",
    "precision,recall,fscore,none= precision_recall_fscore_support(y_true, y_predict, average='weighted')\n",
    "print('Precision of NB: '+(str(precision)))\n",
    "print('Recall of NB: '+(str(recall)))\n",
    "print('F1-score of NB: '+(str(fscore)))\n"
   ]
  },
  {
   "cell_type": "markdown",
   "metadata": {},
   "source": [
    "Logistic Regression"
   ]
  },
  {
   "cell_type": "code",
   "execution_count": 27,
   "metadata": {},
   "outputs": [
    {
     "name": "stderr",
     "output_type": "stream",
     "text": [
      "/home/ananthu/.local/lib/python3.8/site-packages/sklearn/linear_model/_logistic.py:458: ConvergenceWarning: lbfgs failed to converge (status=1):\n",
      "STOP: TOTAL NO. of ITERATIONS REACHED LIMIT.\n",
      "\n",
      "Increase the number of iterations (max_iter) or scale the data as shown in:\n",
      "    https://scikit-learn.org/stable/modules/preprocessing.html\n",
      "Please also refer to the documentation for alternative solver options:\n",
      "    https://scikit-learn.org/stable/modules/linear_model.html#logistic-regression\n",
      "  n_iter_i = _check_optimize_result(\n"
     ]
    },
    {
     "data": {
      "text/html": [
       "<style>#sk-container-id-5 {color: black;background-color: white;}#sk-container-id-5 pre{padding: 0;}#sk-container-id-5 div.sk-toggleable {background-color: white;}#sk-container-id-5 label.sk-toggleable__label {cursor: pointer;display: block;width: 100%;margin-bottom: 0;padding: 0.3em;box-sizing: border-box;text-align: center;}#sk-container-id-5 label.sk-toggleable__label-arrow:before {content: \"▸\";float: left;margin-right: 0.25em;color: #696969;}#sk-container-id-5 label.sk-toggleable__label-arrow:hover:before {color: black;}#sk-container-id-5 div.sk-estimator:hover label.sk-toggleable__label-arrow:before {color: black;}#sk-container-id-5 div.sk-toggleable__content {max-height: 0;max-width: 0;overflow: hidden;text-align: left;background-color: #f0f8ff;}#sk-container-id-5 div.sk-toggleable__content pre {margin: 0.2em;color: black;border-radius: 0.25em;background-color: #f0f8ff;}#sk-container-id-5 input.sk-toggleable__control:checked~div.sk-toggleable__content {max-height: 200px;max-width: 100%;overflow: auto;}#sk-container-id-5 input.sk-toggleable__control:checked~label.sk-toggleable__label-arrow:before {content: \"▾\";}#sk-container-id-5 div.sk-estimator input.sk-toggleable__control:checked~label.sk-toggleable__label {background-color: #d4ebff;}#sk-container-id-5 div.sk-label input.sk-toggleable__control:checked~label.sk-toggleable__label {background-color: #d4ebff;}#sk-container-id-5 input.sk-hidden--visually {border: 0;clip: rect(1px 1px 1px 1px);clip: rect(1px, 1px, 1px, 1px);height: 1px;margin: -1px;overflow: hidden;padding: 0;position: absolute;width: 1px;}#sk-container-id-5 div.sk-estimator {font-family: monospace;background-color: #f0f8ff;border: 1px dotted black;border-radius: 0.25em;box-sizing: border-box;margin-bottom: 0.5em;}#sk-container-id-5 div.sk-estimator:hover {background-color: #d4ebff;}#sk-container-id-5 div.sk-parallel-item::after {content: \"\";width: 100%;border-bottom: 1px solid gray;flex-grow: 1;}#sk-container-id-5 div.sk-label:hover label.sk-toggleable__label {background-color: #d4ebff;}#sk-container-id-5 div.sk-serial::before {content: \"\";position: absolute;border-left: 1px solid gray;box-sizing: border-box;top: 0;bottom: 0;left: 50%;z-index: 0;}#sk-container-id-5 div.sk-serial {display: flex;flex-direction: column;align-items: center;background-color: white;padding-right: 0.2em;padding-left: 0.2em;position: relative;}#sk-container-id-5 div.sk-item {position: relative;z-index: 1;}#sk-container-id-5 div.sk-parallel {display: flex;align-items: stretch;justify-content: center;background-color: white;position: relative;}#sk-container-id-5 div.sk-item::before, #sk-container-id-5 div.sk-parallel-item::before {content: \"\";position: absolute;border-left: 1px solid gray;box-sizing: border-box;top: 0;bottom: 0;left: 50%;z-index: -1;}#sk-container-id-5 div.sk-parallel-item {display: flex;flex-direction: column;z-index: 1;position: relative;background-color: white;}#sk-container-id-5 div.sk-parallel-item:first-child::after {align-self: flex-end;width: 50%;}#sk-container-id-5 div.sk-parallel-item:last-child::after {align-self: flex-start;width: 50%;}#sk-container-id-5 div.sk-parallel-item:only-child::after {width: 0;}#sk-container-id-5 div.sk-dashed-wrapped {border: 1px dashed gray;margin: 0 0.4em 0.5em 0.4em;box-sizing: border-box;padding-bottom: 0.4em;background-color: white;}#sk-container-id-5 div.sk-label label {font-family: monospace;font-weight: bold;display: inline-block;line-height: 1.2em;}#sk-container-id-5 div.sk-label-container {text-align: center;}#sk-container-id-5 div.sk-container {/* jupyter's `normalize.less` sets `[hidden] { display: none; }` but bootstrap.min.css set `[hidden] { display: none !important; }` so we also need the `!important` here to be able to override the default hidden behavior on the sphinx rendered scikit-learn.org. See: https://github.com/scikit-learn/scikit-learn/issues/21755 */display: inline-block !important;position: relative;}#sk-container-id-5 div.sk-text-repr-fallback {display: none;}</style><div id=\"sk-container-id-5\" class=\"sk-top-container\"><div class=\"sk-text-repr-fallback\"><pre>LogisticRegression(random_state=22)</pre><b>In a Jupyter environment, please rerun this cell to show the HTML representation or trust the notebook. <br />On GitHub, the HTML representation is unable to render, please try loading this page with nbviewer.org.</b></div><div class=\"sk-container\" hidden><div class=\"sk-item\"><div class=\"sk-estimator sk-toggleable\"><input class=\"sk-toggleable__control sk-hidden--visually\" id=\"sk-estimator-id-7\" type=\"checkbox\" checked><label for=\"sk-estimator-id-7\" class=\"sk-toggleable__label sk-toggleable__label-arrow\">LogisticRegression</label><div class=\"sk-toggleable__content\"><pre>LogisticRegression(random_state=22)</pre></div></div></div></div></div>"
      ],
      "text/plain": [
       "LogisticRegression(random_state=22)"
      ]
     },
     "execution_count": 27,
     "metadata": {},
     "output_type": "execute_result"
    }
   ],
   "source": [
    "from sklearn.linear_model import LogisticRegression\n",
    "lr = LogisticRegression(random_state = 22)\n",
    "\n",
    "lr.fit(X_train_rfe,y_train)"
   ]
  },
  {
   "cell_type": "code",
   "execution_count": 29,
   "metadata": {},
   "outputs": [
    {
     "name": "stdout",
     "output_type": "stream",
     "text": [
      "Accuracy of LR: 0.5923423423423423\n",
      "Precision of LR: 0.66551726498535\n",
      "Recall of LR: 0.5923423423423423\n",
      "F1-score of LR: 0.5562025499963977\n"
     ]
    }
   ],
   "source": [
    "lr_score=lr.score(X_test_rfe,y_test)\n",
    "y_predict=lr.predict(X_test_rfe)\n",
    "y_true=y_test\n",
    "\n",
    "print('Accuracy of LR: '+ str(lr_score))\n",
    "precision,recall,fscore,none= precision_recall_fscore_support(y_true, y_predict, average='weighted')\n",
    "print('Precision of LR: '+(str(precision)))\n",
    "print('Recall of LR: '+(str(recall)))\n",
    "print('F1-score of LR: '+(str(fscore)))"
   ]
  },
  {
   "cell_type": "markdown",
   "metadata": {},
   "source": [
    "KNN"
   ]
  },
  {
   "cell_type": "code",
   "execution_count": 34,
   "metadata": {},
   "outputs": [
    {
     "data": {
      "text/html": [
       "<style>#sk-container-id-7 {color: black;background-color: white;}#sk-container-id-7 pre{padding: 0;}#sk-container-id-7 div.sk-toggleable {background-color: white;}#sk-container-id-7 label.sk-toggleable__label {cursor: pointer;display: block;width: 100%;margin-bottom: 0;padding: 0.3em;box-sizing: border-box;text-align: center;}#sk-container-id-7 label.sk-toggleable__label-arrow:before {content: \"▸\";float: left;margin-right: 0.25em;color: #696969;}#sk-container-id-7 label.sk-toggleable__label-arrow:hover:before {color: black;}#sk-container-id-7 div.sk-estimator:hover label.sk-toggleable__label-arrow:before {color: black;}#sk-container-id-7 div.sk-toggleable__content {max-height: 0;max-width: 0;overflow: hidden;text-align: left;background-color: #f0f8ff;}#sk-container-id-7 div.sk-toggleable__content pre {margin: 0.2em;color: black;border-radius: 0.25em;background-color: #f0f8ff;}#sk-container-id-7 input.sk-toggleable__control:checked~div.sk-toggleable__content {max-height: 200px;max-width: 100%;overflow: auto;}#sk-container-id-7 input.sk-toggleable__control:checked~label.sk-toggleable__label-arrow:before {content: \"▾\";}#sk-container-id-7 div.sk-estimator input.sk-toggleable__control:checked~label.sk-toggleable__label {background-color: #d4ebff;}#sk-container-id-7 div.sk-label input.sk-toggleable__control:checked~label.sk-toggleable__label {background-color: #d4ebff;}#sk-container-id-7 input.sk-hidden--visually {border: 0;clip: rect(1px 1px 1px 1px);clip: rect(1px, 1px, 1px, 1px);height: 1px;margin: -1px;overflow: hidden;padding: 0;position: absolute;width: 1px;}#sk-container-id-7 div.sk-estimator {font-family: monospace;background-color: #f0f8ff;border: 1px dotted black;border-radius: 0.25em;box-sizing: border-box;margin-bottom: 0.5em;}#sk-container-id-7 div.sk-estimator:hover {background-color: #d4ebff;}#sk-container-id-7 div.sk-parallel-item::after {content: \"\";width: 100%;border-bottom: 1px solid gray;flex-grow: 1;}#sk-container-id-7 div.sk-label:hover label.sk-toggleable__label {background-color: #d4ebff;}#sk-container-id-7 div.sk-serial::before {content: \"\";position: absolute;border-left: 1px solid gray;box-sizing: border-box;top: 0;bottom: 0;left: 50%;z-index: 0;}#sk-container-id-7 div.sk-serial {display: flex;flex-direction: column;align-items: center;background-color: white;padding-right: 0.2em;padding-left: 0.2em;position: relative;}#sk-container-id-7 div.sk-item {position: relative;z-index: 1;}#sk-container-id-7 div.sk-parallel {display: flex;align-items: stretch;justify-content: center;background-color: white;position: relative;}#sk-container-id-7 div.sk-item::before, #sk-container-id-7 div.sk-parallel-item::before {content: \"\";position: absolute;border-left: 1px solid gray;box-sizing: border-box;top: 0;bottom: 0;left: 50%;z-index: -1;}#sk-container-id-7 div.sk-parallel-item {display: flex;flex-direction: column;z-index: 1;position: relative;background-color: white;}#sk-container-id-7 div.sk-parallel-item:first-child::after {align-self: flex-end;width: 50%;}#sk-container-id-7 div.sk-parallel-item:last-child::after {align-self: flex-start;width: 50%;}#sk-container-id-7 div.sk-parallel-item:only-child::after {width: 0;}#sk-container-id-7 div.sk-dashed-wrapped {border: 1px dashed gray;margin: 0 0.4em 0.5em 0.4em;box-sizing: border-box;padding-bottom: 0.4em;background-color: white;}#sk-container-id-7 div.sk-label label {font-family: monospace;font-weight: bold;display: inline-block;line-height: 1.2em;}#sk-container-id-7 div.sk-label-container {text-align: center;}#sk-container-id-7 div.sk-container {/* jupyter's `normalize.less` sets `[hidden] { display: none; }` but bootstrap.min.css set `[hidden] { display: none !important; }` so we also need the `!important` here to be able to override the default hidden behavior on the sphinx rendered scikit-learn.org. See: https://github.com/scikit-learn/scikit-learn/issues/21755 */display: inline-block !important;position: relative;}#sk-container-id-7 div.sk-text-repr-fallback {display: none;}</style><div id=\"sk-container-id-7\" class=\"sk-top-container\"><div class=\"sk-text-repr-fallback\"><pre>KNeighborsClassifier(n_neighbors=7)</pre><b>In a Jupyter environment, please rerun this cell to show the HTML representation or trust the notebook. <br />On GitHub, the HTML representation is unable to render, please try loading this page with nbviewer.org.</b></div><div class=\"sk-container\" hidden><div class=\"sk-item\"><div class=\"sk-estimator sk-toggleable\"><input class=\"sk-toggleable__control sk-hidden--visually\" id=\"sk-estimator-id-9\" type=\"checkbox\" checked><label for=\"sk-estimator-id-9\" class=\"sk-toggleable__label sk-toggleable__label-arrow\">KNeighborsClassifier</label><div class=\"sk-toggleable__content\"><pre>KNeighborsClassifier(n_neighbors=7)</pre></div></div></div></div></div>"
      ],
      "text/plain": [
       "KNeighborsClassifier(n_neighbors=7)"
      ]
     },
     "execution_count": 34,
     "metadata": {},
     "output_type": "execute_result"
    }
   ],
   "source": [
    "from sklearn.neighbors import KNeighborsClassifier\n",
    "\n",
    "knn = KNeighborsClassifier(n_neighbors=7)\n",
    "knn.fit(X_train_rfe, y_train)"
   ]
  },
  {
   "cell_type": "code",
   "execution_count": 35,
   "metadata": {},
   "outputs": [
    {
     "name": "stdout",
     "output_type": "stream",
     "text": [
      "Accuracy of KNN: 0.8085585585585585\n",
      "Precision of KNN: 0.8100338061275562\n",
      "Recall of KNN: 0.8085585585585585\n",
      "F1-score of KNN: 0.8077955548856779\n"
     ]
    }
   ],
   "source": [
    "knn_score=knn.score(X_test_rfe,y_test)\n",
    "y_predict=knn.predict(X_test_rfe)\n",
    "y_true=y_test\n",
    "\n",
    "print('Accuracy of KNN: '+ str(knn_score))\n",
    "precision,recall,fscore,none= precision_recall_fscore_support(y_true, y_predict, average='weighted')\n",
    "print('Precision of KNN: '+(str(precision)))\n",
    "print('Recall of KNN: '+(str(recall)))\n",
    "print('F1-score of KNN: '+(str(fscore)))"
   ]
  },
  {
   "cell_type": "markdown",
   "metadata": {},
   "source": [
    "Random Forest"
   ]
  },
  {
   "cell_type": "code",
   "execution_count": 37,
   "metadata": {},
   "outputs": [
    {
     "data": {
      "text/html": [
       "<style>#sk-container-id-8 {color: black;background-color: white;}#sk-container-id-8 pre{padding: 0;}#sk-container-id-8 div.sk-toggleable {background-color: white;}#sk-container-id-8 label.sk-toggleable__label {cursor: pointer;display: block;width: 100%;margin-bottom: 0;padding: 0.3em;box-sizing: border-box;text-align: center;}#sk-container-id-8 label.sk-toggleable__label-arrow:before {content: \"▸\";float: left;margin-right: 0.25em;color: #696969;}#sk-container-id-8 label.sk-toggleable__label-arrow:hover:before {color: black;}#sk-container-id-8 div.sk-estimator:hover label.sk-toggleable__label-arrow:before {color: black;}#sk-container-id-8 div.sk-toggleable__content {max-height: 0;max-width: 0;overflow: hidden;text-align: left;background-color: #f0f8ff;}#sk-container-id-8 div.sk-toggleable__content pre {margin: 0.2em;color: black;border-radius: 0.25em;background-color: #f0f8ff;}#sk-container-id-8 input.sk-toggleable__control:checked~div.sk-toggleable__content {max-height: 200px;max-width: 100%;overflow: auto;}#sk-container-id-8 input.sk-toggleable__control:checked~label.sk-toggleable__label-arrow:before {content: \"▾\";}#sk-container-id-8 div.sk-estimator input.sk-toggleable__control:checked~label.sk-toggleable__label {background-color: #d4ebff;}#sk-container-id-8 div.sk-label input.sk-toggleable__control:checked~label.sk-toggleable__label {background-color: #d4ebff;}#sk-container-id-8 input.sk-hidden--visually {border: 0;clip: rect(1px 1px 1px 1px);clip: rect(1px, 1px, 1px, 1px);height: 1px;margin: -1px;overflow: hidden;padding: 0;position: absolute;width: 1px;}#sk-container-id-8 div.sk-estimator {font-family: monospace;background-color: #f0f8ff;border: 1px dotted black;border-radius: 0.25em;box-sizing: border-box;margin-bottom: 0.5em;}#sk-container-id-8 div.sk-estimator:hover {background-color: #d4ebff;}#sk-container-id-8 div.sk-parallel-item::after {content: \"\";width: 100%;border-bottom: 1px solid gray;flex-grow: 1;}#sk-container-id-8 div.sk-label:hover label.sk-toggleable__label {background-color: #d4ebff;}#sk-container-id-8 div.sk-serial::before {content: \"\";position: absolute;border-left: 1px solid gray;box-sizing: border-box;top: 0;bottom: 0;left: 50%;z-index: 0;}#sk-container-id-8 div.sk-serial {display: flex;flex-direction: column;align-items: center;background-color: white;padding-right: 0.2em;padding-left: 0.2em;position: relative;}#sk-container-id-8 div.sk-item {position: relative;z-index: 1;}#sk-container-id-8 div.sk-parallel {display: flex;align-items: stretch;justify-content: center;background-color: white;position: relative;}#sk-container-id-8 div.sk-item::before, #sk-container-id-8 div.sk-parallel-item::before {content: \"\";position: absolute;border-left: 1px solid gray;box-sizing: border-box;top: 0;bottom: 0;left: 50%;z-index: -1;}#sk-container-id-8 div.sk-parallel-item {display: flex;flex-direction: column;z-index: 1;position: relative;background-color: white;}#sk-container-id-8 div.sk-parallel-item:first-child::after {align-self: flex-end;width: 50%;}#sk-container-id-8 div.sk-parallel-item:last-child::after {align-self: flex-start;width: 50%;}#sk-container-id-8 div.sk-parallel-item:only-child::after {width: 0;}#sk-container-id-8 div.sk-dashed-wrapped {border: 1px dashed gray;margin: 0 0.4em 0.5em 0.4em;box-sizing: border-box;padding-bottom: 0.4em;background-color: white;}#sk-container-id-8 div.sk-label label {font-family: monospace;font-weight: bold;display: inline-block;line-height: 1.2em;}#sk-container-id-8 div.sk-label-container {text-align: center;}#sk-container-id-8 div.sk-container {/* jupyter's `normalize.less` sets `[hidden] { display: none; }` but bootstrap.min.css set `[hidden] { display: none !important; }` so we also need the `!important` here to be able to override the default hidden behavior on the sphinx rendered scikit-learn.org. See: https://github.com/scikit-learn/scikit-learn/issues/21755 */display: inline-block !important;position: relative;}#sk-container-id-8 div.sk-text-repr-fallback {display: none;}</style><div id=\"sk-container-id-8\" class=\"sk-top-container\"><div class=\"sk-text-repr-fallback\"><pre>RandomForestClassifier(random_state=0)</pre><b>In a Jupyter environment, please rerun this cell to show the HTML representation or trust the notebook. <br />On GitHub, the HTML representation is unable to render, please try loading this page with nbviewer.org.</b></div><div class=\"sk-container\" hidden><div class=\"sk-item\"><div class=\"sk-estimator sk-toggleable\"><input class=\"sk-toggleable__control sk-hidden--visually\" id=\"sk-estimator-id-10\" type=\"checkbox\" checked><label for=\"sk-estimator-id-10\" class=\"sk-toggleable__label sk-toggleable__label-arrow\">RandomForestClassifier</label><div class=\"sk-toggleable__content\"><pre>RandomForestClassifier(random_state=0)</pre></div></div></div></div></div>"
      ],
      "text/plain": [
       "RandomForestClassifier(random_state=0)"
      ]
     },
     "execution_count": 37,
     "metadata": {},
     "output_type": "execute_result"
    }
   ],
   "source": [
    "from sklearn.ensemble import RandomForestClassifier\n",
    "\n",
    "rf = RandomForestClassifier(random_state = 0)\n",
    "rf.fit(X_train_rfe, y_train)"
   ]
  },
  {
   "cell_type": "code",
   "execution_count": 38,
   "metadata": {},
   "outputs": [
    {
     "name": "stdout",
     "output_type": "stream",
     "text": [
      "Accuracy of RF: 0.8445945945945946\n",
      "Precision of RF: 0.8453339703339704\n",
      "Recall of RF: 0.8445945945945946\n",
      "F1-score of RF: 0.8442336681562657\n"
     ]
    }
   ],
   "source": [
    "rf_score=rf.score(X_test_rfe,y_test)\n",
    "y_predict=rf.predict(X_test_rfe)\n",
    "y_true=y_test\n",
    "\n",
    "print('Accuracy of RF: '+ str(rf_score))\n",
    "precision,recall,fscore,none= precision_recall_fscore_support(y_true, y_predict, average='weighted')\n",
    "print('Precision of RF: '+(str(precision)))\n",
    "print('Recall of RF: '+(str(recall)))\n",
    "print('F1-score of RF: '+(str(fscore)))"
   ]
  },
  {
   "cell_type": "markdown",
   "metadata": {},
   "source": [
    "SVM"
   ]
  },
  {
   "cell_type": "code",
   "execution_count": 39,
   "metadata": {},
   "outputs": [
    {
     "data": {
      "text/html": [
       "<style>#sk-container-id-9 {color: black;background-color: white;}#sk-container-id-9 pre{padding: 0;}#sk-container-id-9 div.sk-toggleable {background-color: white;}#sk-container-id-9 label.sk-toggleable__label {cursor: pointer;display: block;width: 100%;margin-bottom: 0;padding: 0.3em;box-sizing: border-box;text-align: center;}#sk-container-id-9 label.sk-toggleable__label-arrow:before {content: \"▸\";float: left;margin-right: 0.25em;color: #696969;}#sk-container-id-9 label.sk-toggleable__label-arrow:hover:before {color: black;}#sk-container-id-9 div.sk-estimator:hover label.sk-toggleable__label-arrow:before {color: black;}#sk-container-id-9 div.sk-toggleable__content {max-height: 0;max-width: 0;overflow: hidden;text-align: left;background-color: #f0f8ff;}#sk-container-id-9 div.sk-toggleable__content pre {margin: 0.2em;color: black;border-radius: 0.25em;background-color: #f0f8ff;}#sk-container-id-9 input.sk-toggleable__control:checked~div.sk-toggleable__content {max-height: 200px;max-width: 100%;overflow: auto;}#sk-container-id-9 input.sk-toggleable__control:checked~label.sk-toggleable__label-arrow:before {content: \"▾\";}#sk-container-id-9 div.sk-estimator input.sk-toggleable__control:checked~label.sk-toggleable__label {background-color: #d4ebff;}#sk-container-id-9 div.sk-label input.sk-toggleable__control:checked~label.sk-toggleable__label {background-color: #d4ebff;}#sk-container-id-9 input.sk-hidden--visually {border: 0;clip: rect(1px 1px 1px 1px);clip: rect(1px, 1px, 1px, 1px);height: 1px;margin: -1px;overflow: hidden;padding: 0;position: absolute;width: 1px;}#sk-container-id-9 div.sk-estimator {font-family: monospace;background-color: #f0f8ff;border: 1px dotted black;border-radius: 0.25em;box-sizing: border-box;margin-bottom: 0.5em;}#sk-container-id-9 div.sk-estimator:hover {background-color: #d4ebff;}#sk-container-id-9 div.sk-parallel-item::after {content: \"\";width: 100%;border-bottom: 1px solid gray;flex-grow: 1;}#sk-container-id-9 div.sk-label:hover label.sk-toggleable__label {background-color: #d4ebff;}#sk-container-id-9 div.sk-serial::before {content: \"\";position: absolute;border-left: 1px solid gray;box-sizing: border-box;top: 0;bottom: 0;left: 50%;z-index: 0;}#sk-container-id-9 div.sk-serial {display: flex;flex-direction: column;align-items: center;background-color: white;padding-right: 0.2em;padding-left: 0.2em;position: relative;}#sk-container-id-9 div.sk-item {position: relative;z-index: 1;}#sk-container-id-9 div.sk-parallel {display: flex;align-items: stretch;justify-content: center;background-color: white;position: relative;}#sk-container-id-9 div.sk-item::before, #sk-container-id-9 div.sk-parallel-item::before {content: \"\";position: absolute;border-left: 1px solid gray;box-sizing: border-box;top: 0;bottom: 0;left: 50%;z-index: -1;}#sk-container-id-9 div.sk-parallel-item {display: flex;flex-direction: column;z-index: 1;position: relative;background-color: white;}#sk-container-id-9 div.sk-parallel-item:first-child::after {align-self: flex-end;width: 50%;}#sk-container-id-9 div.sk-parallel-item:last-child::after {align-self: flex-start;width: 50%;}#sk-container-id-9 div.sk-parallel-item:only-child::after {width: 0;}#sk-container-id-9 div.sk-dashed-wrapped {border: 1px dashed gray;margin: 0 0.4em 0.5em 0.4em;box-sizing: border-box;padding-bottom: 0.4em;background-color: white;}#sk-container-id-9 div.sk-label label {font-family: monospace;font-weight: bold;display: inline-block;line-height: 1.2em;}#sk-container-id-9 div.sk-label-container {text-align: center;}#sk-container-id-9 div.sk-container {/* jupyter's `normalize.less` sets `[hidden] { display: none; }` but bootstrap.min.css set `[hidden] { display: none !important; }` so we also need the `!important` here to be able to override the default hidden behavior on the sphinx rendered scikit-learn.org. See: https://github.com/scikit-learn/scikit-learn/issues/21755 */display: inline-block !important;position: relative;}#sk-container-id-9 div.sk-text-repr-fallback {display: none;}</style><div id=\"sk-container-id-9\" class=\"sk-top-container\"><div class=\"sk-text-repr-fallback\"><pre>SVC(C=1, random_state=42)</pre><b>In a Jupyter environment, please rerun this cell to show the HTML representation or trust the notebook. <br />On GitHub, the HTML representation is unable to render, please try loading this page with nbviewer.org.</b></div><div class=\"sk-container\" hidden><div class=\"sk-item\"><div class=\"sk-estimator sk-toggleable\"><input class=\"sk-toggleable__control sk-hidden--visually\" id=\"sk-estimator-id-11\" type=\"checkbox\" checked><label for=\"sk-estimator-id-11\" class=\"sk-toggleable__label sk-toggleable__label-arrow\">SVC</label><div class=\"sk-toggleable__content\"><pre>SVC(C=1, random_state=42)</pre></div></div></div></div></div>"
      ],
      "text/plain": [
       "SVC(C=1, random_state=42)"
      ]
     },
     "execution_count": 39,
     "metadata": {},
     "output_type": "execute_result"
    }
   ],
   "source": [
    "from sklearn.svm import SVC\n",
    "\n",
    "svm = SVC(kernel='rbf', C=1, random_state=42)\n",
    "svm.fit(X_train_rfe, y_train)"
   ]
  },
  {
   "cell_type": "code",
   "execution_count": 40,
   "metadata": {},
   "outputs": [
    {
     "name": "stdout",
     "output_type": "stream",
     "text": [
      "Accuracy of SVM: 0.8445945945945946\n",
      "Precision of SVM: 0.7563114838976909\n",
      "Recall of SVM: 0.545045045045045\n",
      "F1-score of SVM: 0.4049674606560834\n"
     ]
    }
   ],
   "source": [
    "svm_score=svm.score(X_test_rfe,y_test)\n",
    "y_predict=svm.predict(X_test_rfe)\n",
    "y_true=y_test\n",
    "\n",
    "print('Accuracy of SVM: '+ str(rf_score))\n",
    "precision,recall,fscore,none= precision_recall_fscore_support(y_true, y_predict, average='weighted')\n",
    "print('Precision of SVM: '+(str(precision)))\n",
    "print('Recall of SVM: '+(str(recall)))\n",
    "print('F1-score of SVM: '+(str(fscore)))"
   ]
  },
  {
   "cell_type": "markdown",
   "metadata": {},
   "source": [
    "k-means"
   ]
  },
  {
   "cell_type": "code",
   "execution_count": 42,
   "metadata": {},
   "outputs": [
    {
     "name": "stderr",
     "output_type": "stream",
     "text": [
      "/home/ananthu/.local/lib/python3.8/site-packages/sklearn/cluster/_kmeans.py:870: FutureWarning: The default value of `n_init` will change from 10 to 'auto' in 1.4. Set the value of `n_init` explicitly to suppress the warning\n",
      "  warnings.warn(\n"
     ]
    }
   ],
   "source": [
    "from sklearn.cluster import KMeans\n",
    "\n",
    "kmeans = KMeans(n_clusters=2)\n",
    "y_pred=kmeans.fit(X_test_rfe)"
   ]
  },
  {
   "cell_type": "code",
   "execution_count": 45,
   "metadata": {},
   "outputs": [
    {
     "data": {
      "text/plain": [
       "0.9838027655589254"
      ]
     },
     "execution_count": 45,
     "metadata": {},
     "output_type": "execute_result"
    }
   ],
   "source": [
    "from sklearn.metrics import silhouette_score\n",
    "\n",
    "centroids = kmeans.cluster_centers_\n",
    "labels = kmeans.labels_\n",
    "\n",
    "silhouette_avg = silhouette_score(X_test_rfe, labels)\n",
    "silhouette_avg"
   ]
  },
  {
   "cell_type": "code",
   "execution_count": null,
   "metadata": {},
   "outputs": [],
   "source": []
  }
 ],
 "metadata": {
  "kernelspec": {
   "display_name": "Python 3",
   "language": "python",
   "name": "python3"
  },
  "language_info": {
   "codemirror_mode": {
    "name": "ipython",
    "version": 3
   },
   "file_extension": ".py",
   "mimetype": "text/x-python",
   "name": "python",
   "nbconvert_exporter": "python",
   "pygments_lexer": "ipython3",
   "version": "3.8.10"
  }
 },
 "nbformat": 4,
 "nbformat_minor": 2
}
